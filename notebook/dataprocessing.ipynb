{
 "cells": [
  {
   "cell_type": "markdown",
   "source": [
    "This notebook used to visualize the data \n",
    "Use data 20newsgroups-bydate"
   ],
   "metadata": {
    "collapsed": false
   },
   "id": "f6f031cd27fcedcc"
  },
  {
   "cell_type": "code",
   "execution_count": 10,
   "outputs": [],
   "source": [
    "import pandas as pd\n",
    "import numpy as np\n",
    "import matplotlib.pyplot as plt\n",
    "import seaborn as sns"
   ],
   "metadata": {
    "collapsed": false,
    "ExecuteTime": {
     "end_time": "2024-03-15T14:37:38.623562700Z",
     "start_time": "2024-03-15T14:37:38.613688200Z"
    }
   },
   "id": "8f4c54af3c8d75c4"
  },
  {
   "cell_type": "code",
   "execution_count": 11,
   "outputs": [],
   "source": [
    "TRAIN_PATH = 'data/20news-bydate/20news-bydate-train'\n",
    "TEST_PATH = 'data/20news-bydate/20news-bydate-test'"
   ],
   "metadata": {
    "collapsed": false,
    "ExecuteTime": {
     "end_time": "2024-03-15T14:37:38.623562700Z",
     "start_time": "2024-03-15T14:37:38.616196400Z"
    }
   },
   "id": "4eddfd94b9be56fc"
  },
  {
   "cell_type": "code",
   "execution_count": 12,
   "outputs": [],
   "source": [
    "from sklearn.datasets import fetch_20newsgroups\n",
    "newsgroups_train = fetch_20newsgroups(subset='train')\n",
    "newsgroups_test = fetch_20newsgroups(subset='test')"
   ],
   "metadata": {
    "collapsed": false,
    "ExecuteTime": {
     "end_time": "2024-03-15T14:37:39.047932200Z",
     "start_time": "2024-03-15T14:37:38.619562100Z"
    }
   },
   "id": "3df9952defb9d666"
  },
  {
   "cell_type": "code",
   "execution_count": 20,
   "outputs": [],
   "source": [
    "df = pd.DataFrame({'text': newsgroups_train.data, 'target': newsgroups_train.target})\n",
    "df['target'] = df['target'].apply(lambda x: newsgroups_train.target_names[x])\n",
    "List_values = df['target'].value_counts().index.tolist()"
   ],
   "metadata": {
    "collapsed": false,
    "ExecuteTime": {
     "end_time": "2024-03-15T14:38:43.933498900Z",
     "start_time": "2024-03-15T14:38:43.897416300Z"
    }
   },
   "id": "27c35d3591765049"
  },
  {
   "cell_type": "code",
   "execution_count": 21,
   "outputs": [
    {
     "data": {
      "text/plain": "                                                text                 target\n0  From: lerxst@wam.umd.edu (where's my thing)\\nS...              rec.autos\n1  From: guykuo@carson.u.washington.edu (Guy Kuo)...  comp.sys.mac.hardware\n2  From: twillis@ec.ecn.purdue.edu (Thomas E Will...  comp.sys.mac.hardware\n3  From: jgreen@amber (Joe Green)\\nSubject: Re: W...          comp.graphics\n4  From: jcm@head-cfa.harvard.edu (Jonathan McDow...              sci.space",
      "text/html": "<div>\n<style scoped>\n    .dataframe tbody tr th:only-of-type {\n        vertical-align: middle;\n    }\n\n    .dataframe tbody tr th {\n        vertical-align: top;\n    }\n\n    .dataframe thead th {\n        text-align: right;\n    }\n</style>\n<table border=\"1\" class=\"dataframe\">\n  <thead>\n    <tr style=\"text-align: right;\">\n      <th></th>\n      <th>text</th>\n      <th>target</th>\n    </tr>\n  </thead>\n  <tbody>\n    <tr>\n      <th>0</th>\n      <td>From: lerxst@wam.umd.edu (where's my thing)\\nS...</td>\n      <td>rec.autos</td>\n    </tr>\n    <tr>\n      <th>1</th>\n      <td>From: guykuo@carson.u.washington.edu (Guy Kuo)...</td>\n      <td>comp.sys.mac.hardware</td>\n    </tr>\n    <tr>\n      <th>2</th>\n      <td>From: twillis@ec.ecn.purdue.edu (Thomas E Will...</td>\n      <td>comp.sys.mac.hardware</td>\n    </tr>\n    <tr>\n      <th>3</th>\n      <td>From: jgreen@amber (Joe Green)\\nSubject: Re: W...</td>\n      <td>comp.graphics</td>\n    </tr>\n    <tr>\n      <th>4</th>\n      <td>From: jcm@head-cfa.harvard.edu (Jonathan McDow...</td>\n      <td>sci.space</td>\n    </tr>\n  </tbody>\n</table>\n</div>"
     },
     "execution_count": 21,
     "metadata": {},
     "output_type": "execute_result"
    }
   ],
   "source": [
    "df.head()"
   ],
   "metadata": {
    "collapsed": false,
    "ExecuteTime": {
     "end_time": "2024-03-15T14:38:45.434581700Z",
     "start_time": "2024-03-15T14:38:45.398235600Z"
    }
   },
   "id": "b5c7f4e0162bc4c2"
  },
  {
   "cell_type": "code",
   "execution_count": 22,
   "outputs": [
    {
     "data": {
      "text/plain": "target\nrec.sport.hockey            600\nsoc.religion.christian      599\nrec.motorcycles             598\nrec.sport.baseball          597\nsci.crypt                   595\nrec.autos                   594\nsci.med                     594\ncomp.windows.x              593\nsci.space                   593\ncomp.os.ms-windows.misc     591\nsci.electronics             591\ncomp.sys.ibm.pc.hardware    590\nmisc.forsale                585\ncomp.graphics               584\ncomp.sys.mac.hardware       578\ntalk.politics.mideast       564\ntalk.politics.guns          546\nalt.atheism                 480\ntalk.politics.misc          465\ntalk.religion.misc          377\nName: count, dtype: int64"
     },
     "execution_count": 22,
     "metadata": {},
     "output_type": "execute_result"
    }
   ],
   "source": [
    "df['target'].value_counts()"
   ],
   "metadata": {
    "collapsed": false,
    "ExecuteTime": {
     "end_time": "2024-03-15T14:38:47.853273500Z",
     "start_time": "2024-03-15T14:38:47.835145700Z"
    }
   },
   "id": "4d1115d4a6e3c96c"
  },
  {
   "cell_type": "code",
   "execution_count": 25,
   "outputs": [
    {
     "data": {
      "text/plain": "20"
     },
     "execution_count": 25,
     "metadata": {},
     "output_type": "execute_result"
    }
   ],
   "source": [
    "len(List_values)"
   ],
   "metadata": {
    "collapsed": false,
    "ExecuteTime": {
     "end_time": "2024-03-15T14:39:30.707774800Z",
     "start_time": "2024-03-15T14:39:30.680018900Z"
    }
   },
   "id": "4041d537f41e3987"
  },
  {
   "cell_type": "code",
   "execution_count": 27,
   "outputs": [
    {
     "ename": "ValueError",
     "evalue": "could not convert string to float: 'rec.autos'",
     "output_type": "error",
     "traceback": [
      "\u001B[1;31m---------------------------------------------------------------------------\u001B[0m",
      "\u001B[1;31mValueError\u001B[0m                                Traceback (most recent call last)",
      "Cell \u001B[1;32mIn[27], line 2\u001B[0m\n\u001B[0;32m      1\u001B[0m \u001B[38;5;66;03m# Visualize the number of documents in each category\u001B[39;00m\n\u001B[1;32m----> 2\u001B[0m \u001B[43msns\u001B[49m\u001B[38;5;241;43m.\u001B[39;49m\u001B[43mcountplot\u001B[49m\u001B[43m(\u001B[49m\u001B[43mdf\u001B[49m\u001B[43m[\u001B[49m\u001B[38;5;124;43m'\u001B[39;49m\u001B[38;5;124;43mtarget\u001B[39;49m\u001B[38;5;124;43m'\u001B[39;49m\u001B[43m]\u001B[49m\u001B[43m)\u001B[49m\n\u001B[0;32m      3\u001B[0m plt\u001B[38;5;241m.\u001B[39mxticks(rotation\u001B[38;5;241m=\u001B[39m\u001B[38;5;241m90\u001B[39m)\n\u001B[0;32m      4\u001B[0m plt\u001B[38;5;241m.\u001B[39mshow()\n",
      "File \u001B[1;32m~\\AppData\\Local\\Programs\\Python\\Python311\\Lib\\site-packages\\seaborn\\categorical.py:2943\u001B[0m, in \u001B[0;36mcountplot\u001B[1;34m(data, x, y, hue, order, hue_order, orient, color, palette, saturation, width, dodge, ax, **kwargs)\u001B[0m\n\u001B[0;32m   2940\u001B[0m \u001B[38;5;28;01melif\u001B[39;00m x \u001B[38;5;129;01mis\u001B[39;00m \u001B[38;5;129;01mnot\u001B[39;00m \u001B[38;5;28;01mNone\u001B[39;00m \u001B[38;5;129;01mand\u001B[39;00m y \u001B[38;5;129;01mis\u001B[39;00m \u001B[38;5;129;01mnot\u001B[39;00m \u001B[38;5;28;01mNone\u001B[39;00m:\n\u001B[0;32m   2941\u001B[0m     \u001B[38;5;28;01mraise\u001B[39;00m \u001B[38;5;167;01mValueError\u001B[39;00m(\u001B[38;5;124m\"\u001B[39m\u001B[38;5;124mCannot pass values for both `x` and `y`\u001B[39m\u001B[38;5;124m\"\u001B[39m)\n\u001B[1;32m-> 2943\u001B[0m plotter \u001B[38;5;241m=\u001B[39m \u001B[43m_CountPlotter\u001B[49m\u001B[43m(\u001B[49m\n\u001B[0;32m   2944\u001B[0m \u001B[43m    \u001B[49m\u001B[43mx\u001B[49m\u001B[43m,\u001B[49m\u001B[43m \u001B[49m\u001B[43my\u001B[49m\u001B[43m,\u001B[49m\u001B[43m \u001B[49m\u001B[43mhue\u001B[49m\u001B[43m,\u001B[49m\u001B[43m \u001B[49m\u001B[43mdata\u001B[49m\u001B[43m,\u001B[49m\u001B[43m \u001B[49m\u001B[43morder\u001B[49m\u001B[43m,\u001B[49m\u001B[43m \u001B[49m\u001B[43mhue_order\u001B[49m\u001B[43m,\u001B[49m\n\u001B[0;32m   2945\u001B[0m \u001B[43m    \u001B[49m\u001B[43mestimator\u001B[49m\u001B[43m,\u001B[49m\u001B[43m \u001B[49m\u001B[43merrorbar\u001B[49m\u001B[43m,\u001B[49m\u001B[43m \u001B[49m\u001B[43mn_boot\u001B[49m\u001B[43m,\u001B[49m\u001B[43m \u001B[49m\u001B[43munits\u001B[49m\u001B[43m,\u001B[49m\u001B[43m \u001B[49m\u001B[43mseed\u001B[49m\u001B[43m,\u001B[49m\n\u001B[0;32m   2946\u001B[0m \u001B[43m    \u001B[49m\u001B[43morient\u001B[49m\u001B[43m,\u001B[49m\u001B[43m \u001B[49m\u001B[43mcolor\u001B[49m\u001B[43m,\u001B[49m\u001B[43m \u001B[49m\u001B[43mpalette\u001B[49m\u001B[43m,\u001B[49m\u001B[43m \u001B[49m\u001B[43msaturation\u001B[49m\u001B[43m,\u001B[49m\n\u001B[0;32m   2947\u001B[0m \u001B[43m    \u001B[49m\u001B[43mwidth\u001B[49m\u001B[43m,\u001B[49m\u001B[43m \u001B[49m\u001B[43merrcolor\u001B[49m\u001B[43m,\u001B[49m\u001B[43m \u001B[49m\u001B[43merrwidth\u001B[49m\u001B[43m,\u001B[49m\u001B[43m \u001B[49m\u001B[43mcapsize\u001B[49m\u001B[43m,\u001B[49m\u001B[43m \u001B[49m\u001B[43mdodge\u001B[49m\n\u001B[0;32m   2948\u001B[0m \u001B[43m\u001B[49m\u001B[43m)\u001B[49m\n\u001B[0;32m   2950\u001B[0m plotter\u001B[38;5;241m.\u001B[39mvalue_label \u001B[38;5;241m=\u001B[39m \u001B[38;5;124m\"\u001B[39m\u001B[38;5;124mcount\u001B[39m\u001B[38;5;124m\"\u001B[39m\n\u001B[0;32m   2952\u001B[0m \u001B[38;5;28;01mif\u001B[39;00m ax \u001B[38;5;129;01mis\u001B[39;00m \u001B[38;5;28;01mNone\u001B[39;00m:\n",
      "File \u001B[1;32m~\\AppData\\Local\\Programs\\Python\\Python311\\Lib\\site-packages\\seaborn\\categorical.py:1530\u001B[0m, in \u001B[0;36m_BarPlotter.__init__\u001B[1;34m(self, x, y, hue, data, order, hue_order, estimator, errorbar, n_boot, units, seed, orient, color, palette, saturation, width, errcolor, errwidth, capsize, dodge)\u001B[0m\n\u001B[0;32m   1525\u001B[0m \u001B[38;5;28;01mdef\u001B[39;00m \u001B[38;5;21m__init__\u001B[39m(\u001B[38;5;28mself\u001B[39m, x, y, hue, data, order, hue_order,\n\u001B[0;32m   1526\u001B[0m              estimator, errorbar, n_boot, units, seed,\n\u001B[0;32m   1527\u001B[0m              orient, color, palette, saturation, width,\n\u001B[0;32m   1528\u001B[0m              errcolor, errwidth, capsize, dodge):\n\u001B[0;32m   1529\u001B[0m \u001B[38;5;250m    \u001B[39m\u001B[38;5;124;03m\"\"\"Initialize the plotter.\"\"\"\u001B[39;00m\n\u001B[1;32m-> 1530\u001B[0m     \u001B[38;5;28;43mself\u001B[39;49m\u001B[38;5;241;43m.\u001B[39;49m\u001B[43mestablish_variables\u001B[49m\u001B[43m(\u001B[49m\u001B[43mx\u001B[49m\u001B[43m,\u001B[49m\u001B[43m \u001B[49m\u001B[43my\u001B[49m\u001B[43m,\u001B[49m\u001B[43m \u001B[49m\u001B[43mhue\u001B[49m\u001B[43m,\u001B[49m\u001B[43m \u001B[49m\u001B[43mdata\u001B[49m\u001B[43m,\u001B[49m\u001B[43m \u001B[49m\u001B[43morient\u001B[49m\u001B[43m,\u001B[49m\n\u001B[0;32m   1531\u001B[0m \u001B[43m                             \u001B[49m\u001B[43morder\u001B[49m\u001B[43m,\u001B[49m\u001B[43m \u001B[49m\u001B[43mhue_order\u001B[49m\u001B[43m,\u001B[49m\u001B[43m \u001B[49m\u001B[43munits\u001B[49m\u001B[43m)\u001B[49m\n\u001B[0;32m   1532\u001B[0m     \u001B[38;5;28mself\u001B[39m\u001B[38;5;241m.\u001B[39mestablish_colors(color, palette, saturation)\n\u001B[0;32m   1533\u001B[0m     \u001B[38;5;28mself\u001B[39m\u001B[38;5;241m.\u001B[39mestimate_statistic(estimator, errorbar, n_boot, seed)\n",
      "File \u001B[1;32m~\\AppData\\Local\\Programs\\Python\\Python311\\Lib\\site-packages\\seaborn\\categorical.py:516\u001B[0m, in \u001B[0;36m_CategoricalPlotter.establish_variables\u001B[1;34m(self, x, y, hue, data, orient, order, hue_order, units)\u001B[0m\n\u001B[0;32m    513\u001B[0m     plot_data \u001B[38;5;241m=\u001B[39m data\n\u001B[0;32m    515\u001B[0m \u001B[38;5;66;03m# Convert to a list of arrays, the common representation\u001B[39;00m\n\u001B[1;32m--> 516\u001B[0m plot_data \u001B[38;5;241m=\u001B[39m \u001B[43m[\u001B[49m\u001B[43mnp\u001B[49m\u001B[38;5;241;43m.\u001B[39;49m\u001B[43masarray\u001B[49m\u001B[43m(\u001B[49m\u001B[43md\u001B[49m\u001B[43m,\u001B[49m\u001B[43m \u001B[49m\u001B[38;5;28;43mfloat\u001B[39;49m\u001B[43m)\u001B[49m\u001B[43m \u001B[49m\u001B[38;5;28;43;01mfor\u001B[39;49;00m\u001B[43m \u001B[49m\u001B[43md\u001B[49m\u001B[43m \u001B[49m\u001B[38;5;129;43;01min\u001B[39;49;00m\u001B[43m \u001B[49m\u001B[43mplot_data\u001B[49m\u001B[43m]\u001B[49m\n\u001B[0;32m    518\u001B[0m \u001B[38;5;66;03m# The group names will just be numeric indices\u001B[39;00m\n\u001B[0;32m    519\u001B[0m group_names \u001B[38;5;241m=\u001B[39m \u001B[38;5;28mlist\u001B[39m(\u001B[38;5;28mrange\u001B[39m(\u001B[38;5;28mlen\u001B[39m(plot_data)))\n",
      "File \u001B[1;32m~\\AppData\\Local\\Programs\\Python\\Python311\\Lib\\site-packages\\seaborn\\categorical.py:516\u001B[0m, in \u001B[0;36m<listcomp>\u001B[1;34m(.0)\u001B[0m\n\u001B[0;32m    513\u001B[0m     plot_data \u001B[38;5;241m=\u001B[39m data\n\u001B[0;32m    515\u001B[0m \u001B[38;5;66;03m# Convert to a list of arrays, the common representation\u001B[39;00m\n\u001B[1;32m--> 516\u001B[0m plot_data \u001B[38;5;241m=\u001B[39m [\u001B[43mnp\u001B[49m\u001B[38;5;241;43m.\u001B[39;49m\u001B[43masarray\u001B[49m\u001B[43m(\u001B[49m\u001B[43md\u001B[49m\u001B[43m,\u001B[49m\u001B[43m \u001B[49m\u001B[38;5;28;43mfloat\u001B[39;49m\u001B[43m)\u001B[49m \u001B[38;5;28;01mfor\u001B[39;00m d \u001B[38;5;129;01min\u001B[39;00m plot_data]\n\u001B[0;32m    518\u001B[0m \u001B[38;5;66;03m# The group names will just be numeric indices\u001B[39;00m\n\u001B[0;32m    519\u001B[0m group_names \u001B[38;5;241m=\u001B[39m \u001B[38;5;28mlist\u001B[39m(\u001B[38;5;28mrange\u001B[39m(\u001B[38;5;28mlen\u001B[39m(plot_data)))\n",
      "File \u001B[1;32m~\\AppData\\Local\\Programs\\Python\\Python311\\Lib\\site-packages\\pandas\\core\\series.py:917\u001B[0m, in \u001B[0;36mSeries.__array__\u001B[1;34m(self, dtype)\u001B[0m\n\u001B[0;32m    870\u001B[0m \u001B[38;5;250m\u001B[39m\u001B[38;5;124;03m\"\"\"\u001B[39;00m\n\u001B[0;32m    871\u001B[0m \u001B[38;5;124;03mReturn the values as a NumPy array.\u001B[39;00m\n\u001B[0;32m    872\u001B[0m \n\u001B[1;32m   (...)\u001B[0m\n\u001B[0;32m    914\u001B[0m \u001B[38;5;124;03m      dtype='datetime64[ns]')\u001B[39;00m\n\u001B[0;32m    915\u001B[0m \u001B[38;5;124;03m\"\"\"\u001B[39;00m\n\u001B[0;32m    916\u001B[0m values \u001B[38;5;241m=\u001B[39m \u001B[38;5;28mself\u001B[39m\u001B[38;5;241m.\u001B[39m_values\n\u001B[1;32m--> 917\u001B[0m arr \u001B[38;5;241m=\u001B[39m np\u001B[38;5;241m.\u001B[39masarray(values, dtype\u001B[38;5;241m=\u001B[39mdtype)\n\u001B[0;32m    918\u001B[0m \u001B[38;5;28;01mif\u001B[39;00m using_copy_on_write() \u001B[38;5;129;01mand\u001B[39;00m astype_is_view(values\u001B[38;5;241m.\u001B[39mdtype, arr\u001B[38;5;241m.\u001B[39mdtype):\n\u001B[0;32m    919\u001B[0m     arr \u001B[38;5;241m=\u001B[39m arr\u001B[38;5;241m.\u001B[39mview()\n",
      "\u001B[1;31mValueError\u001B[0m: could not convert string to float: 'rec.autos'"
     ]
    }
   ],
   "source": [
    "# Visualize the number of documents in each category\n",
    "sns.countplot(df['target'])\n",
    "plt.xticks(rotation=90)\n",
    "plt.show()"
   ],
   "metadata": {
    "collapsed": false,
    "ExecuteTime": {
     "end_time": "2024-03-15T14:40:00.067472500Z",
     "start_time": "2024-03-15T14:39:59.964962800Z"
    }
   },
   "id": "d8dfa62f382cfb8d"
  },
  {
   "cell_type": "code",
   "execution_count": null,
   "outputs": [],
   "source": [],
   "metadata": {
    "collapsed": false,
    "ExecuteTime": {
     "start_time": "2024-03-15T14:37:39.153098900Z"
    }
   },
   "id": "6629e9fc7ba73411"
  }
 ],
 "metadata": {
  "kernelspec": {
   "display_name": "Python 3",
   "language": "python",
   "name": "python3"
  },
  "language_info": {
   "codemirror_mode": {
    "name": "ipython",
    "version": 2
   },
   "file_extension": ".py",
   "mimetype": "text/x-python",
   "name": "python",
   "nbconvert_exporter": "python",
   "pygments_lexer": "ipython2",
   "version": "2.7.6"
  }
 },
 "nbformat": 4,
 "nbformat_minor": 5
}
